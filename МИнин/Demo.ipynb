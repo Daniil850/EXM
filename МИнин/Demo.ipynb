{
 "cells": [
  {
   "cell_type": "code",
   "execution_count": 12,
   "metadata": {},
   "outputs": [],
   "source": [
    "import requests\n",
    "from bs4 import BeautifulSoup"
   ]
  },
  {
   "cell_type": "code",
   "execution_count": 13,
   "metadata": {},
   "outputs": [],
   "source": [
    "link = 'https://academy.kp11.ru/course/index.php'"
   ]
  },
  {
   "cell_type": "code",
   "execution_count": 14,
   "metadata": {},
   "outputs": [],
   "source": [
    "main_page_raw = requests.get(link)"
   ]
  },
  {
   "cell_type": "code",
   "execution_count": 15,
   "metadata": {},
   "outputs": [
    {
     "data": {
      "text/plain": [
       "200"
      ]
     },
     "execution_count": 15,
     "metadata": {},
     "output_type": "execute_result"
    }
   ],
   "source": [
    "main_page_raw.status_code"
   ]
  },
  {
   "cell_type": "code",
   "execution_count": 16,
   "metadata": {},
   "outputs": [],
   "source": [
    "main_page = BeautifulSoup(main_page_raw.text,'html.parser')"
   ]
  },
  {
   "cell_type": "code",
   "execution_count": 17,
   "metadata": {},
   "outputs": [
    {
     "data": {
      "text/plain": [
       "<title>Академия КП 11: Course categories</title>"
      ]
     },
     "execution_count": 17,
     "metadata": {},
     "output_type": "execute_result"
    }
   ],
   "source": [
    "main_page.title"
   ]
  },
  {
   "cell_type": "code",
   "execution_count": 18,
   "metadata": {},
   "outputs": [],
   "source": [
    "# найдём все центры\n",
    "centers = main_page.find_all('h3', class_=\"categoryname aabtn\")"
   ]
  },
  {
   "cell_type": "code",
   "execution_count": 19,
   "metadata": {},
   "outputs": [
    {
     "name": "stdout",
     "output_type": "stream",
     "text": [
      "https://academy.kp11.ru/course/index.php?categoryid=392\n",
      "https://academy.kp11.ru/course/index.php?categoryid=2\n",
      "https://academy.kp11.ru/course/index.php?categoryid=3\n",
      "https://academy.kp11.ru/course/index.php?categoryid=4\n",
      "https://academy.kp11.ru/course/index.php?categoryid=5\n",
      "https://academy.kp11.ru/course/index.php?categoryid=6\n",
      "https://academy.kp11.ru/course/index.php?categoryid=64\n",
      "https://academy.kp11.ru/course/index.php?categoryid=99\n",
      "https://academy.kp11.ru/course/index.php?categoryid=134\n",
      "https://academy.kp11.ru/course/index.php?categoryid=255\n",
      "https://academy.kp11.ru/course/index.php?categoryid=394\n"
     ]
    }
   ],
   "source": [
    "centers_links = []\n",
    "\n",
    "for cent in centers:\n",
    "    a = cent.find('a')\n",
    "    link = a.get('href')\n",
    "    print(link)\n",
    "    centers_links.append(link)"
   ]
  },
  {
   "cell_type": "code",
   "execution_count": 20,
   "metadata": {},
   "outputs": [],
   "source": [
    "prepods_raw = []\n",
    "\n",
    "for link in centers_links:\n",
    "    prepods_raw.append(requests.get(link))"
   ]
  },
  {
   "cell_type": "code",
   "execution_count": 21,
   "metadata": {},
   "outputs": [
    {
     "data": {
      "text/plain": [
       "<Response [200]>"
      ]
     },
     "execution_count": 21,
     "metadata": {},
     "output_type": "execute_result"
    }
   ],
   "source": [
    "prepods_raw[1]"
   ]
  },
  {
   "cell_type": "code",
   "execution_count": 22,
   "metadata": {},
   "outputs": [],
   "source": [
    "prepods = []\n",
    "for prepod in prepods_raw:\n",
    "    prepods.append(BeautifulSoup(prepod.text,'html.parser'))"
   ]
  },
  {
   "cell_type": "code",
   "execution_count": null,
   "metadata": {},
   "outputs": [],
   "source": []
  }
 ],
 "metadata": {
  "kernelspec": {
   "display_name": "Python 3 (ipykernel)",
   "language": "python",
   "name": "python3"
  },
  "language_info": {
   "codemirror_mode": {
    "name": "ipython",
    "version": 3
   },
   "file_extension": ".py",
   "mimetype": "text/x-python",
   "name": "python",
   "nbconvert_exporter": "python",
   "pygments_lexer": "ipython3",
   "version": "3.9.7"
  }
 },
 "nbformat": 4,
 "nbformat_minor": 4
}
