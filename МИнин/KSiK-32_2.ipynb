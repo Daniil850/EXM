{
 "cells": [
  {
   "cell_type": "code",
   "execution_count": 5,
   "id": "ce08e6a1",
   "metadata": {},
   "outputs": [],
   "source": [
    "number_1 = '1234'"
   ]
  },
  {
   "cell_type": "code",
   "execution_count": 6,
   "id": "42b9a0bd",
   "metadata": {},
   "outputs": [
    {
     "data": {
      "text/plain": [
       "str"
      ]
     },
     "execution_count": 6,
     "metadata": {},
     "output_type": "execute_result"
    }
   ],
   "source": [
    "type(number_1)"
   ]
  },
  {
   "cell_type": "code",
   "execution_count": 9,
   "id": "d1aadda4",
   "metadata": {},
   "outputs": [
    {
     "name": "stdout",
     "output_type": "stream",
     "text": [
      "1 <class 'str'>\n",
      "1 <class 'int'>\n",
      "2 <class 'str'>\n",
      "2 <class 'int'>\n",
      "3 <class 'str'>\n",
      "3 <class 'int'>\n",
      "4 <class 'str'>\n",
      "4 <class 'int'>\n"
     ]
    }
   ],
   "source": [
    "for num in number_1:\n",
    "    print(num, type(num))\n",
    "    num = int(num)\n",
    "    print(num, type(num))"
   ]
  },
  {
   "cell_type": "code",
   "execution_count": 10,
   "id": "3f4b6a67",
   "metadata": {},
   "outputs": [
    {
     "data": {
      "text/plain": [
       "str"
      ]
     },
     "execution_count": 10,
     "metadata": {},
     "output_type": "execute_result"
    }
   ],
   "source": [
    "type(number_1)"
   ]
  },
  {
   "cell_type": "markdown",
   "id": "04e1bbe1",
   "metadata": {},
   "source": [
    "### Списки Lists"
   ]
  },
  {
   "cell_type": "code",
   "execution_count": 11,
   "id": "62fde9ef",
   "metadata": {},
   "outputs": [],
   "source": [
    "students = ['Nikita', 'Alex', 'Julia', 'Egor']"
   ]
  },
  {
   "cell_type": "code",
   "execution_count": 12,
   "id": "06805dd7",
   "metadata": {},
   "outputs": [
    {
     "name": "stdout",
     "output_type": "stream",
     "text": [
      "Nikita\n",
      "Alex\n",
      "Julia\n",
      "Egor\n"
     ]
    }
   ],
   "source": [
    "for stud in students:\n",
    "    print(stud)"
   ]
  },
  {
   "cell_type": "code",
   "execution_count": 13,
   "id": "c1e37b1e",
   "metadata": {},
   "outputs": [
    {
     "data": {
      "text/plain": [
       "'Egor'"
      ]
     },
     "execution_count": 13,
     "metadata": {},
     "output_type": "execute_result"
    }
   ],
   "source": [
    "students[3]"
   ]
  },
  {
   "cell_type": "code",
   "execution_count": 20,
   "id": "90a3eb42",
   "metadata": {},
   "outputs": [
    {
     "data": {
      "text/plain": [
       "['Nikita', 'Alex', 'Julia', 'Egor', 'David', 'David', 'David']"
      ]
     },
     "execution_count": 20,
     "metadata": {},
     "output_type": "execute_result"
    }
   ],
   "source": [
    "students.append('David')\n",
    "students"
   ]
  },
  {
   "cell_type": "code",
   "execution_count": 16,
   "id": "68c3d0bd",
   "metadata": {},
   "outputs": [
    {
     "data": {
      "text/plain": [
       "['Nikita', 'Alex', 'Julia', 'Egor', 'David']"
      ]
     },
     "execution_count": 16,
     "metadata": {},
     "output_type": "execute_result"
    }
   ],
   "source": [
    "students.pop(4)\n",
    "students"
   ]
  },
  {
   "cell_type": "code",
   "execution_count": 22,
   "id": "ff70c7c2",
   "metadata": {},
   "outputs": [
    {
     "data": {
      "text/plain": [
       "['Nikita', 'Alex', 'Julia', 'Egor', 'David']"
      ]
     },
     "execution_count": 22,
     "metadata": {},
     "output_type": "execute_result"
    }
   ],
   "source": [
    "students.remove('David')\n",
    "students"
   ]
  },
  {
   "cell_type": "code",
   "execution_count": null,
   "id": "3cacb98d",
   "metadata": {},
   "outputs": [],
   "source": [
    "students.clear() # очистить список"
   ]
  },
  {
   "cell_type": "code",
   "execution_count": 23,
   "id": "8db15d3f",
   "metadata": {},
   "outputs": [],
   "source": [
    "students_new = students"
   ]
  },
  {
   "cell_type": "code",
   "execution_count": 25,
   "id": "81ca9bdc",
   "metadata": {},
   "outputs": [
    {
     "name": "stdout",
     "output_type": "stream",
     "text": [
      "['Nikita', 'Alex', 'Julia', 'Egor', 'David']\n",
      "['Nikita', 'Alex', 'Julia', 'Egor', 'David']\n"
     ]
    }
   ],
   "source": [
    "print(students)\n",
    "print(students_new)"
   ]
  },
  {
   "cell_type": "code",
   "execution_count": 26,
   "id": "53b0c47d",
   "metadata": {},
   "outputs": [
    {
     "name": "stdout",
     "output_type": "stream",
     "text": [
      "['Nikita', 'Alex', 'Julia', 'Egor']\n",
      "['Nikita', 'Alex', 'Julia', 'Egor']\n"
     ]
    }
   ],
   "source": [
    "students_new.remove('David')\n",
    "print(students)\n",
    "print(students_new)"
   ]
  },
  {
   "cell_type": "code",
   "execution_count": 27,
   "id": "8675bc0b",
   "metadata": {},
   "outputs": [
    {
     "name": "stdout",
     "output_type": "stream",
     "text": [
      "['Nikita', 'Alex', 'Julia', 'Egor']\n",
      "['Nikita', 'Alex', 'Julia', 'Egor']\n"
     ]
    }
   ],
   "source": [
    "students_new = students.copy()\n",
    "print(students)\n",
    "print(students_new)"
   ]
  },
  {
   "cell_type": "code",
   "execution_count": 28,
   "id": "ed211a45",
   "metadata": {},
   "outputs": [
    {
     "name": "stdout",
     "output_type": "stream",
     "text": [
      "['Nikita', 'Alex', 'Julia', 'Egor', 'David']\n",
      "['Nikita', 'Alex', 'Julia', 'Egor']\n"
     ]
    }
   ],
   "source": [
    "students.append('David')\n",
    "print(students)\n",
    "print(students_new)"
   ]
  },
  {
   "cell_type": "code",
   "execution_count": 30,
   "id": "7251f44e",
   "metadata": {},
   "outputs": [],
   "source": [
    "students.append('Egor')"
   ]
  },
  {
   "cell_type": "code",
   "execution_count": 31,
   "id": "9fa020aa",
   "metadata": {},
   "outputs": [
    {
     "data": {
      "text/plain": [
       "['Nikita', 'Alex', 'Julia', 'Egor', 'David', 'Egor', 'Egor']"
      ]
     },
     "execution_count": 31,
     "metadata": {},
     "output_type": "execute_result"
    }
   ],
   "source": [
    "students"
   ]
  },
  {
   "cell_type": "code",
   "execution_count": 32,
   "id": "a01efca5",
   "metadata": {},
   "outputs": [
    {
     "data": {
      "text/plain": [
       "3"
      ]
     },
     "execution_count": 32,
     "metadata": {},
     "output_type": "execute_result"
    }
   ],
   "source": [
    "students.count('Egor')"
   ]
  },
  {
   "cell_type": "code",
   "execution_count": 33,
   "id": "b8d168e7",
   "metadata": {},
   "outputs": [],
   "source": [
    "students.extend(students_new)"
   ]
  },
  {
   "cell_type": "code",
   "execution_count": 34,
   "id": "63807396",
   "metadata": {},
   "outputs": [
    {
     "data": {
      "text/plain": [
       "['Nikita',\n",
       " 'Alex',\n",
       " 'Julia',\n",
       " 'Egor',\n",
       " 'David',\n",
       " 'Egor',\n",
       " 'Egor',\n",
       " 'Nikita',\n",
       " 'Alex',\n",
       " 'Julia',\n",
       " 'Egor']"
      ]
     },
     "execution_count": 34,
     "metadata": {},
     "output_type": "execute_result"
    }
   ],
   "source": [
    "students"
   ]
  },
  {
   "cell_type": "code",
   "execution_count": 35,
   "id": "f5c68720",
   "metadata": {},
   "outputs": [
    {
     "data": {
      "text/plain": [
       "1"
      ]
     },
     "execution_count": 35,
     "metadata": {},
     "output_type": "execute_result"
    }
   ],
   "source": [
    "students.index('Alex')"
   ]
  },
  {
   "cell_type": "code",
   "execution_count": 36,
   "id": "19c99716",
   "metadata": {},
   "outputs": [
    {
     "data": {
      "text/plain": [
       "['Nikita',\n",
       " 'Alex',\n",
       " 'Julia',\n",
       " 'Egor',\n",
       " 'David',\n",
       " 'Yarik',\n",
       " 'Egor',\n",
       " 'Egor',\n",
       " 'Nikita',\n",
       " 'Alex',\n",
       " 'Julia',\n",
       " 'Egor']"
      ]
     },
     "execution_count": 36,
     "metadata": {},
     "output_type": "execute_result"
    }
   ],
   "source": [
    "students.insert(5, 'Yarik')\n",
    "students"
   ]
  },
  {
   "cell_type": "code",
   "execution_count": 37,
   "id": "c15159f6",
   "metadata": {},
   "outputs": [
    {
     "data": {
      "text/plain": [
       "['Alex',\n",
       " 'Alex',\n",
       " 'David',\n",
       " 'Egor',\n",
       " 'Egor',\n",
       " 'Egor',\n",
       " 'Egor',\n",
       " 'Julia',\n",
       " 'Julia',\n",
       " 'Nikita',\n",
       " 'Nikita',\n",
       " 'Yarik']"
      ]
     },
     "execution_count": 37,
     "metadata": {},
     "output_type": "execute_result"
    }
   ],
   "source": [
    "students.sort()\n",
    "students"
   ]
  },
  {
   "cell_type": "code",
   "execution_count": 38,
   "id": "fce4e1aa",
   "metadata": {},
   "outputs": [
    {
     "data": {
      "text/plain": [
       "['Yarik',\n",
       " 'Nikita',\n",
       " 'Nikita',\n",
       " 'Julia',\n",
       " 'Julia',\n",
       " 'Egor',\n",
       " 'Egor',\n",
       " 'Egor',\n",
       " 'Egor',\n",
       " 'David',\n",
       " 'Alex',\n",
       " 'Alex']"
      ]
     },
     "execution_count": 38,
     "metadata": {},
     "output_type": "execute_result"
    }
   ],
   "source": [
    "students.reverse()\n",
    "students"
   ]
  },
  {
   "cell_type": "code",
   "execution_count": 40,
   "id": "fae474c7",
   "metadata": {},
   "outputs": [
    {
     "name": "stdout",
     "output_type": "stream",
     "text": [
      "введите слово:word\n"
     ]
    }
   ],
   "source": [
    "user_input = input('введите слово: ')"
   ]
  },
  {
   "cell_type": "code",
   "execution_count": 41,
   "id": "1d10fa7b",
   "metadata": {},
   "outputs": [
    {
     "data": {
      "text/plain": [
       "'Вы ввели слово: word'"
      ]
     },
     "execution_count": 41,
     "metadata": {},
     "output_type": "execute_result"
    }
   ],
   "source": [
    "new_string = 'Вы ввели слово: ' + user_input\n",
    "new_string"
   ]
  },
  {
   "cell_type": "code",
   "execution_count": 42,
   "id": "41058602",
   "metadata": {},
   "outputs": [
    {
     "name": "stdout",
     "output_type": "stream",
     "text": [
      "введите слово: цивилизация\n"
     ]
    }
   ],
   "source": [
    "user_input = input('введите слово: ')"
   ]
  },
  {
   "cell_type": "code",
   "execution_count": 47,
   "id": "9fd1135b",
   "metadata": {},
   "outputs": [
    {
     "data": {
      "text/plain": [
       "'цывылызацыя'"
      ]
     },
     "execution_count": 47,
     "metadata": {},
     "output_type": "execute_result"
    }
   ],
   "source": [
    "user_input.replace('и', 'ы')"
   ]
  },
  {
   "cell_type": "code",
   "execution_count": 49,
   "id": "4e6dd199",
   "metadata": {},
   "outputs": [
    {
     "data": {
      "text/plain": [
       "'цивилизацияцивилизация'"
      ]
     },
     "execution_count": 49,
     "metadata": {},
     "output_type": "execute_result"
    }
   ],
   "source": [
    "user_input * 2"
   ]
  },
  {
   "cell_type": "code",
   "execution_count": 50,
   "id": "216b15d8",
   "metadata": {},
   "outputs": [
    {
     "name": "stdout",
     "output_type": "stream",
     "text": [
      "Введите число: 1234\n"
     ]
    },
    {
     "data": {
      "text/plain": [
       "'1234'"
      ]
     },
     "execution_count": 50,
     "metadata": {},
     "output_type": "execute_result"
    }
   ],
   "source": [
    "user_input = input('Введите число: ')\n",
    "user_input"
   ]
  },
  {
   "cell_type": "code",
   "execution_count": 51,
   "id": "0814d5b7",
   "metadata": {},
   "outputs": [
    {
     "data": {
      "text/plain": [
       "'12341234'"
      ]
     },
     "execution_count": 51,
     "metadata": {},
     "output_type": "execute_result"
    }
   ],
   "source": [
    "user_input * 2"
   ]
  },
  {
   "cell_type": "markdown",
   "id": "c158a3ff",
   "metadata": {},
   "source": [
    "### Tuples"
   ]
  },
  {
   "cell_type": "code",
   "execution_count": 52,
   "id": "6ff14c78",
   "metadata": {},
   "outputs": [],
   "source": [
    "students_tup = ('Alex',\n",
    " 'Alex',\n",
    " 'David',\n",
    " 'Egor',\n",
    " 'Egor',\n",
    " 'Egor',\n",
    " 'Egor',\n",
    " 'Julia',\n",
    " 'Julia',\n",
    " 'Nikita',\n",
    " 'Nikita',\n",
    " 'Yarik')"
   ]
  },
  {
   "cell_type": "code",
   "execution_count": 53,
   "id": "64f1c7ee",
   "metadata": {},
   "outputs": [
    {
     "data": {
      "text/plain": [
       "tuple"
      ]
     },
     "execution_count": 53,
     "metadata": {},
     "output_type": "execute_result"
    }
   ],
   "source": [
    "type(students_tup)"
   ]
  },
  {
   "cell_type": "code",
   "execution_count": 54,
   "id": "da02f5b0",
   "metadata": {},
   "outputs": [
    {
     "data": {
      "text/plain": [
       "('Alex',\n",
       " 'Alex',\n",
       " 'David',\n",
       " 'Egor',\n",
       " 'Egor',\n",
       " 'Egor',\n",
       " 'Egor',\n",
       " 'Julia',\n",
       " 'Julia',\n",
       " 'Nikita',\n",
       " 'Nikita',\n",
       " 'Yarik')"
      ]
     },
     "execution_count": 54,
     "metadata": {},
     "output_type": "execute_result"
    }
   ],
   "source": [
    "students_tup"
   ]
  },
  {
   "cell_type": "code",
   "execution_count": 55,
   "id": "c20f8a74",
   "metadata": {},
   "outputs": [
    {
     "ename": "AttributeError",
     "evalue": "'tuple' object has no attribute 'pop'",
     "output_type": "error",
     "traceback": [
      "\u001b[1;31m---------------------------------------------------------------------------\u001b[0m",
      "\u001b[1;31mAttributeError\u001b[0m                            Traceback (most recent call last)",
      "\u001b[1;32m~\\AppData\\Local\\Temp/ipykernel_6564/1664226042.py\u001b[0m in \u001b[0;36m<module>\u001b[1;34m\u001b[0m\n\u001b[1;32m----> 1\u001b[1;33m \u001b[0mstudents_tup\u001b[0m\u001b[1;33m.\u001b[0m\u001b[0mpop\u001b[0m\u001b[1;33m(\u001b[0m\u001b[1;34m'David'\u001b[0m\u001b[1;33m)\u001b[0m\u001b[1;33m\u001b[0m\u001b[1;33m\u001b[0m\u001b[0m\n\u001b[0m",
      "\u001b[1;31mAttributeError\u001b[0m: 'tuple' object has no attribute 'pop'"
     ]
    }
   ],
   "source": [
    "students_tup.pop('David') # Tuple нельзя менять"
   ]
  },
  {
   "cell_type": "code",
   "execution_count": 57,
   "id": "7acbaf90",
   "metadata": {},
   "outputs": [],
   "source": [
    "students_set = {'Alex',\n",
    " 'Alex',\n",
    " 'David',\n",
    " 'Egor',\n",
    " 'Egor',\n",
    " 'Egor',\n",
    " 'Egor',\n",
    " 'Julia',\n",
    " 'Julia',\n",
    " 'Nikita',\n",
    " 'Nikita',\n",
    " 'Yarik'}"
   ]
  },
  {
   "cell_type": "code",
   "execution_count": 58,
   "id": "eb64374d",
   "metadata": {},
   "outputs": [
    {
     "data": {
      "text/plain": [
       "{'Alex', 'David', 'Egor', 'Julia', 'Nikita', 'Yarik'}"
      ]
     },
     "execution_count": 58,
     "metadata": {},
     "output_type": "execute_result"
    }
   ],
   "source": [
    "students_set # Set неупорядоченный сет без повторов"
   ]
  },
  {
   "cell_type": "code",
   "execution_count": 59,
   "id": "040db76a",
   "metadata": {},
   "outputs": [
    {
     "data": {
      "text/plain": [
       "set"
      ]
     },
     "execution_count": 59,
     "metadata": {},
     "output_type": "execute_result"
    }
   ],
   "source": [
    "type(students_set)"
   ]
  },
  {
   "cell_type": "code",
   "execution_count": 62,
   "id": "b936ada1",
   "metadata": {},
   "outputs": [
    {
     "data": {
      "text/plain": [
       "{'Alex', 'David', 'Egor', 'Julia', 'Nikita', 'Nikolaj', 'Nikolay', 'Yarik'}"
      ]
     },
     "execution_count": 62,
     "metadata": {},
     "output_type": "execute_result"
    }
   ],
   "source": [
    "students_set.add('Nikolay')\n",
    "students_set"
   ]
  },
  {
   "cell_type": "code",
   "execution_count": 63,
   "id": "fca01ac3",
   "metadata": {},
   "outputs": [],
   "source": [
    "students_set_2 = {'Alex', 'David', 'Egor', 'Julia', 'Nikita', 'Nikolay', 'Yarik'}"
   ]
  },
  {
   "cell_type": "code",
   "execution_count": 64,
   "id": "161ce68b",
   "metadata": {},
   "outputs": [
    {
     "data": {
      "text/plain": [
       "{'Nikolaj'}"
      ]
     },
     "execution_count": 64,
     "metadata": {},
     "output_type": "execute_result"
    }
   ],
   "source": [
    "dif = students_set.difference(students_set_2)\n",
    "dif"
   ]
  },
  {
   "cell_type": "markdown",
   "id": "76219ab6",
   "metadata": {},
   "source": [
    "### Словарь Dictionary"
   ]
  },
  {
   "cell_type": "code",
   "execution_count": 65,
   "id": "0f5c533d",
   "metadata": {},
   "outputs": [
    {
     "data": {
      "text/plain": [
       "{'Alex': 'Kireev', 'David': 'Vairadyan', 'Egor': 'Vasiliev'}"
      ]
     },
     "execution_count": 65,
     "metadata": {},
     "output_type": "execute_result"
    }
   ],
   "source": [
    "stud_dict = {'Alex':'Kireev', 'David':'Vairadyan', 'Egor':'Vasiliev'}\n",
    "stud_dict"
   ]
  },
  {
   "cell_type": "code",
   "execution_count": 66,
   "id": "b0612b18",
   "metadata": {},
   "outputs": [
    {
     "name": "stdout",
     "output_type": "stream",
     "text": [
      "Alex\n",
      "David\n",
      "Egor\n"
     ]
    }
   ],
   "source": [
    "for stud in stud_dict.keys(): # перебрать ключи\n",
    "    print(stud)"
   ]
  },
  {
   "cell_type": "code",
   "execution_count": 67,
   "id": "46d82c4c",
   "metadata": {},
   "outputs": [
    {
     "name": "stdout",
     "output_type": "stream",
     "text": [
      "Kireev\n",
      "Vairadyan\n",
      "Vasiliev\n"
     ]
    }
   ],
   "source": [
    "for stud in stud_dict.values(): # перебрать значения\n",
    "    print(stud)"
   ]
  },
  {
   "cell_type": "code",
   "execution_count": 68,
   "id": "6bc1c2f8",
   "metadata": {
    "scrolled": true
   },
   "outputs": [
    {
     "name": "stdout",
     "output_type": "stream",
     "text": [
      "('Alex', 'Kireev')\n",
      "('David', 'Vairadyan')\n",
      "('Egor', 'Vasiliev')\n"
     ]
    }
   ],
   "source": [
    "for stud in stud_dict.items(): # перебрать пары\n",
    "    print(stud)"
   ]
  },
  {
   "cell_type": "code",
   "execution_count": 69,
   "id": "0f1f384a",
   "metadata": {},
   "outputs": [
    {
     "data": {
      "text/plain": [
       "'Kireev'"
      ]
     },
     "execution_count": 69,
     "metadata": {},
     "output_type": "execute_result"
    }
   ],
   "source": [
    "stud_dict['Alex']"
   ]
  },
  {
   "cell_type": "code",
   "execution_count": null,
   "id": "9405d617",
   "metadata": {},
   "outputs": [],
   "source": []
  }
 ],
 "metadata": {
  "kernelspec": {
   "display_name": "Python 3 (ipykernel)",
   "language": "python",
   "name": "python3"
  },
  "language_info": {
   "codemirror_mode": {
    "name": "ipython",
    "version": 3
   },
   "file_extension": ".py",
   "mimetype": "text/x-python",
   "name": "python",
   "nbconvert_exporter": "python",
   "pygments_lexer": "ipython3",
   "version": "3.9.7"
  }
 },
 "nbformat": 4,
 "nbformat_minor": 5
}
