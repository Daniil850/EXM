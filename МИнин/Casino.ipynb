{
 "cells": [
  {
   "cell_type": "code",
   "execution_count": 1,
   "id": "9376321c",
   "metadata": {},
   "outputs": [],
   "source": [
    "cells = [['0', 'green'], ['00', 'green'],\n",
    "         ['1', 'red'], ['2', 'black'], ['3', 'red'], ['4', 'black'], ['5', 'red'], ['6', 'black'],\n",
    "         ['7', 'red'], ['8', 'black'], ['9', 'red'], ['10', 'black'], ['11', 'black'], ['12', 'red'],\n",
    "         ['13', 'black'], ['14', 'red'], ['15', 'black'], ['16', 'red'], ['17', 'black'], ['18', 'red'],\n",
    "         ['19', 'red'], ['20', 'black'], ['21', 'red'], ['22', 'black'], ['23', 'red'], ['24', 'black'],\n",
    "         ['25', 'red'], ['26', 'black'], ['27', 'red'], ['28', 'black'], ['29', 'black'], ['30', 'red'],\n",
    "         ['31', 'black'], ['32', 'red'], ['33', 'black'], ['34', 'red'], ['35', 'black'], ['36', 'red']\n",
    "        ]"
   ]
  },
  {
   "cell_type": "code",
   "execution_count": 3,
   "id": "57a66edf",
   "metadata": {},
   "outputs": [],
   "source": [
    "import random"
   ]
  },
  {
   "cell_type": "code",
   "execution_count": 4,
   "id": "2e5ab99e",
   "metadata": {},
   "outputs": [],
   "source": [
    "def randomizer():\n",
    "    result = random.choice(cells)\n",
    "    return result"
   ]
  },
  {
   "cell_type": "code",
   "execution_count": 5,
   "id": "033b2a92",
   "metadata": {},
   "outputs": [
    {
     "data": {
      "text/plain": [
       "['9', 'red']"
      ]
     },
     "execution_count": 5,
     "metadata": {},
     "output_type": "execute_result"
    }
   ],
   "source": [
    "randomizer()"
   ]
  },
  {
   "cell_type": "code",
   "execution_count": 6,
   "id": "77236b81",
   "metadata": {},
   "outputs": [],
   "source": [
    "def print_result(cell):\n",
    "    print('Выпало', cell[0], cell[1])"
   ]
  },
  {
   "cell_type": "code",
   "execution_count": 7,
   "id": "df2d9000",
   "metadata": {},
   "outputs": [
    {
     "name": "stdout",
     "output_type": "stream",
     "text": [
      "Выпало 31 black\n"
     ]
    }
   ],
   "source": [
    "print_result(randomizer())"
   ]
  },
  {
   "cell_type": "code",
   "execution_count": 8,
   "id": "264b25da",
   "metadata": {},
   "outputs": [],
   "source": [
    "def user_input():\n",
    "    bet = input('Введите цвет: ')\n",
    "    return bet"
   ]
  },
  {
   "cell_type": "code",
   "execution_count": 9,
   "id": "4fcab0d1",
   "metadata": {},
   "outputs": [],
   "source": [
    "def game():\n",
    "    bet = user_input()\n",
    "    if bet == 'red' or bet == 'black':\n",
    "        cell = randomizer()\n",
    "        print_result(cell)\n",
    "        if bet == cell[1]:\n",
    "            print('Выигрыш \\n')\n",
    "            return 'win'\n",
    "        else:\n",
    "            print('Проигрыш \\n')\n",
    "            return 'lose'\n",
    "    else:\n",
    "        print('Ошибка ввода! \\nВведите red или black: ')\n",
    "        game()"
   ]
  },
  {
   "cell_type": "code",
   "execution_count": 10,
   "id": "885b0355",
   "metadata": {},
   "outputs": [],
   "source": [
    "money = 1000"
   ]
  },
  {
   "cell_type": "code",
   "execution_count": 11,
   "id": "0ebc8ce1",
   "metadata": {},
   "outputs": [],
   "source": [
    "def check_if_int(value):\n",
    "    try:\n",
    "        int_val = int(value)\n",
    "        return int_val\n",
    "    except:\n",
    "        print('Ошибка ввода! Введите целое число')\n",
    "        return 'error'"
   ]
  },
  {
   "cell_type": "code",
   "execution_count": 12,
   "id": "a8464281",
   "metadata": {},
   "outputs": [],
   "source": [
    "def bet(money):\n",
    "    user_input = input('Введите сумму ставки:')\n",
    "    int_val = check_if_int(user_input)\n",
    "    if int_val == 'error':\n",
    "        bet()\n",
    "    elif int_val > money:\n",
    "        print('Недостаточно средств')\n",
    "        bet()\n",
    "    else:\n",
    "        money = money - int_val\n",
    "        print('Ставка', int_val, 'принята, осталось средств:', money)\n",
    "        return money"
   ]
  },
  {
   "cell_type": "code",
   "execution_count": 118,
   "id": "8393b445",
   "metadata": {},
   "outputs": [
    {
     "name": "stdout",
     "output_type": "stream",
     "text": [
      "Введите сумму ставки:asd\n",
      "Ошибка ввода! Введите целое число\n",
      "Введите сумму ставки:adweq\n",
      "Ошибка ввода! Введите целое число\n",
      "Введите сумму ставки:123\n",
      "123\n"
     ]
    }
   ],
   "source": [
    "bet()"
   ]
  },
  {
   "cell_type": "code",
   "execution_count": null,
   "id": "631a1cc5",
   "metadata": {},
   "outputs": [],
   "source": []
  }
 ],
 "metadata": {
  "kernelspec": {
   "display_name": "Python 3 (ipykernel)",
   "language": "python",
   "name": "python3"
  },
  "language_info": {
   "codemirror_mode": {
    "name": "ipython",
    "version": 3
   },
   "file_extension": ".py",
   "mimetype": "text/x-python",
   "name": "python",
   "nbconvert_exporter": "python",
   "pygments_lexer": "ipython3",
   "version": "3.9.7"
  }
 },
 "nbformat": 4,
 "nbformat_minor": 5
}
